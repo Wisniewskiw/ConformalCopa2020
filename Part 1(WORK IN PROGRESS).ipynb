{
 "cells": [
  {
   "cell_type": "code",
   "execution_count": 2,
   "metadata": {},
   "outputs": [
    {
     "data": {
      "text/html": [
       "<style>.container { width:95% !important; }</style>"
      ],
      "text/plain": [
       "<IPython.core.display.HTML object>"
      ]
     },
     "execution_count": 2,
     "metadata": {},
     "output_type": "execute_result"
    }
   ],
   "source": [
    "from IPython.core.display import HTML\n",
    "HTML(\"<style>.container { width:95% !important; }</style>\")"
   ]
  },
  {
   "cell_type": "code",
   "execution_count": 1,
   "metadata": {},
   "outputs": [],
   "source": [
    "%load_ext autoreload\n",
    "%autoreload 2"
   ]
  },
  {
   "cell_type": "markdown",
   "metadata": {},
   "source": [
    "# Application of Conformal Prediction Interval Estimations to Market Makers’ Net Positions\"\n",
    "Contains implementation of the paper (WORK IN PROGRESS i.e code is messy= check for errors and  check standarisation  classic or mae).\n",
    "\n",
    "In short conformal prediction (CP) is compared to quantile regression (QR) and mouving average in an interval prediction task for net position time series. The CP an QR are used on top of 5 popular ML algos:\n",
    "- Linear Regression with lasso regularisation\n",
    "- KNN\n",
    "- Random Forest\n",
    "- Gradient Boosting\n",
    "- LSTM\n",
    "\n",
    "### Plan\n",
    "#### 1)Load and transform dataset and MA\n",
    "#### 2)Conformal Prediction\n",
    "    - Performing Cross Validation and randomized tuning of parameters for considered ML algos\n",
    "    - Prediction all pvalues all ML algos\n",
    "#### 3)Quantile Regression\n",
    "    - Definining Qantile Regression versions for considered ML algos\n",
    "    - Prediction all pvalues all ML algo \n"
   ]
  },
  {
   "cell_type": "code",
   "execution_count": null,
   "metadata": {},
   "outputs": [],
   "source": []
  },
  {
   "cell_type": "markdown",
   "metadata": {},
   "source": [
    "## 1)Load and transform dataset and MA"
   ]
  },
  {
   "cell_type": "code",
   "execution_count": 46,
   "metadata": {},
   "outputs": [],
   "source": [
    "import files.prepare as prep"
   ]
  },
  {
   "cell_type": "code",
   "execution_count": 42,
   "metadata": {},
   "outputs": [],
   "source": [
    "# load dataframe\n",
    "path_data='data\\hourNetPositions.csv'\n",
    "df = pd.read_csv(path_data,parse_dates=['datetime'], infer_datetime_format=True)\n",
    "df.columns=['QdfTime', 'NetPosUsd', 'NetUsdPnL', 'AbsVolume', 'Mid']\n",
    "df=df[['QdfTime','NetPosUsd']]"
   ]
  },
  {
   "cell_type": "code",
   "execution_count": 43,
   "metadata": {},
   "outputs": [
    {
     "data": {
      "text/html": [
       "<div>\n",
       "<style scoped>\n",
       "    .dataframe tbody tr th:only-of-type {\n",
       "        vertical-align: middle;\n",
       "    }\n",
       "\n",
       "    .dataframe tbody tr th {\n",
       "        vertical-align: top;\n",
       "    }\n",
       "\n",
       "    .dataframe thead th {\n",
       "        text-align: right;\n",
       "    }\n",
       "</style>\n",
       "<table border=\"1\" class=\"dataframe\">\n",
       "  <thead>\n",
       "    <tr style=\"text-align: right;\">\n",
       "      <th></th>\n",
       "      <th>QdfTime</th>\n",
       "      <th>NetPosUsd</th>\n",
       "    </tr>\n",
       "  </thead>\n",
       "  <tbody>\n",
       "    <tr>\n",
       "      <th>0</th>\n",
       "      <td>2014-02-05 01:00:00</td>\n",
       "      <td>-4055.325</td>\n",
       "    </tr>\n",
       "    <tr>\n",
       "      <th>1</th>\n",
       "      <td>2014-02-05 02:00:00</td>\n",
       "      <td>-4057.155</td>\n",
       "    </tr>\n",
       "    <tr>\n",
       "      <th>2</th>\n",
       "      <td>2014-02-05 03:00:00</td>\n",
       "      <td>-4055.115</td>\n",
       "    </tr>\n",
       "    <tr>\n",
       "      <th>3</th>\n",
       "      <td>2014-02-05 04:00:00</td>\n",
       "      <td>-4053.345</td>\n",
       "    </tr>\n",
       "    <tr>\n",
       "      <th>4</th>\n",
       "      <td>2014-02-05 05:00:00</td>\n",
       "      <td>-4053.825</td>\n",
       "    </tr>\n",
       "  </tbody>\n",
       "</table>\n",
       "</div>"
      ],
      "text/plain": [
       "              QdfTime  NetPosUsd\n",
       "0 2014-02-05 01:00:00  -4055.325\n",
       "1 2014-02-05 02:00:00  -4057.155\n",
       "2 2014-02-05 03:00:00  -4055.115\n",
       "3 2014-02-05 04:00:00  -4053.345\n",
       "4 2014-02-05 05:00:00  -4053.825"
      ]
     },
     "execution_count": 43,
     "metadata": {},
     "output_type": "execute_result"
    }
   ],
   "source": [
    "# see dataframe \n",
    "df.head()"
   ]
  },
  {
   "cell_type": "code",
   "execution_count": 44,
   "metadata": {},
   "outputs": [
    {
     "name": "stderr",
     "output_type": "stream",
     "text": [
      "C:\\Users\\actio\\AppData\\Local\\Continuum\\anaconda3\\lib\\site-packages\\pandas\\core\\computation\\expressions.py:178: UserWarning: evaluating in Python space because the '*' operator is not supported by numexpr for the bool dtype, use '&' instead\n",
      "  f\"evaluating in Python space because the {repr(op_str)} \"\n",
      "C:\\Users\\actio\\AppData\\Local\\Continuum\\anaconda3\\lib\\site-packages\\pandas\\core\\computation\\expressions.py:178: UserWarning: evaluating in Python space because the '+' operator is not supported by numexpr for the bool dtype, use '|' instead\n",
      "  f\"evaluating in Python space because the {repr(op_str)} \"\n",
      "100%|██████████████████████████████████████████████████████████████████████████████████| 29/29 [00:19<00:00,  1.49it/s]\n"
     ]
    }
   ],
   "source": [
    "# add extra features and split df \n",
    "df=prep.addlags(df)\n",
    "df=prep.market_stats(df)\n",
    "prep.five_day_split(df)"
   ]
  },
  {
   "cell_type": "markdown",
   "metadata": {},
   "source": [
    "### MA= Mouving average"
   ]
  },
  {
   "cell_type": "code",
   "execution_count": null,
   "metadata": {},
   "outputs": [],
   "source": [
    "import files.mvgavg as ma\n",
    "import numpy as np"
   ]
  },
  {
   "cell_type": "code",
   "execution_count": null,
   "metadata": {},
   "outputs": [],
   "source": [
    "\n",
    "liste=np.arange(50,2050,50)\n",
    "alpha=0.05\n",
    "ma.get__window_ma(df,liste,alpha)"
   ]
  },
  {
   "cell_type": "code",
   "execution_count": null,
   "metadata": {},
   "outputs": [],
   "source": [
    "#we chose the window\n",
    "window=100\n",
    "ma.get__window_alpha(df,window)"
   ]
  },
  {
   "cell_type": "code",
   "execution_count": null,
   "metadata": {},
   "outputs": [],
   "source": [
    "### TO DO  plot MA statistics"
   ]
  },
  {
   "cell_type": "code",
   "execution_count": null,
   "metadata": {},
   "outputs": [],
   "source": []
  },
  {
   "cell_type": "markdown",
   "metadata": {},
   "source": [
    "## 2)Conformal Prediction"
   ]
  },
  {
   "cell_type": "markdown",
   "metadata": {},
   "source": [
    "##### a) Cross validation and interval prediction for all p values for all algorithms besides LSTM and mouving average"
   ]
  },
  {
   "cell_type": "code",
   "execution_count": null,
   "metadata": {},
   "outputs": [],
   "source": [
    "import files.functionsCV as cv\n",
    "from tqdm.notebook import tqdm"
   ]
  },
  {
   "cell_type": "code",
   "execution_count": 49,
   "metadata": {},
   "outputs": [],
   "source": [
    "# CV is long so lets choose only one dataframe\n",
    "i=0\n",
    "path= 'data/EURUSD_NETPOSUSD_hourly_regression_split'+str(i)+'.csv'\n",
    "df=pd.read_csv(path).drop('Unnamed: 0',axis=1) \n",
    "df=df.fillna(0)\n",
    "window=3480"
   ]
  },
  {
   "cell_type": "markdown",
   "metadata": {},
   "source": [
    "##### KNN"
   ]
  },
  {
   "cell_type": "code",
   "execution_count": null,
   "metadata": {},
   "outputs": [],
   "source": [
    "\n",
    "#knn \n",
    "knn_params = {'alpha_':[0.05, 0.1 , 0.15, 0.2 , 0.25, 0.3 , 0.35, 0.4 , 0.45, 0.5 , 0.55,\n",
    "       0.6 , 0.65, 0.7 , 0.75, 0.8 , 0.85, 0.9 , 0.95],\n",
    "                'n_neighbors':[5,10,25,50,100,150,200],\n",
    "          'leaf_size':[1,5,10,15,20,30,50],\n",
    "          'weights':['uniform', 'distance'],\n",
    "           'randomized_calibration' :[True],\n",
    "          'n_jobs':[-1],\n",
    "                'algorithm':['K-NearestNeighbours'] }\n",
    "cv.grid_cv(df,knn_params)"
   ]
  },
  {
   "cell_type": "code",
   "execution_count": null,
   "metadata": {},
   "outputs": [],
   "source": [
    "\n",
    "all_pvalues_algo('K-NearestNeighbours','CP',window )\n",
    "all_pvalues_algo('K-NearestNeighbours','NCP',window )"
   ]
  },
  {
   "cell_type": "markdown",
   "metadata": {},
   "source": [
    "##### Linear regression lasso"
   ]
  },
  {
   "cell_type": "code",
   "execution_count": null,
   "metadata": {},
   "outputs": [],
   "source": [
    "lasso_params = {'alpha_':[0.05, 0.1 , 0.15, 0.2 , 0.25, 0.3 , 0.35, 0.4 , 0.45, 0.5 , 0.55,\n",
    "       0.6 , 0.65, 0.7 , 0.75, 0.8 , 0.85, 0.9 , 0.95],\n",
    "                'alpha':[25,10,5,3,2,1.0,0.0,0.1,0.01,0.001],\n",
    "                'randomized_calibration' :[True],\n",
    "                'algorithm':['LassoRegression'] }\n",
    "cv.grid_cv(df,lasso_params)"
   ]
  },
  {
   "cell_type": "code",
   "execution_count": null,
   "metadata": {},
   "outputs": [],
   "source": [
    "all_pvalues_algo('LassoRegression','CP',window )\n",
    "all_pvalues_algo('LassoRegression','NCP',window )"
   ]
  },
  {
   "cell_type": "markdown",
   "metadata": {},
   "source": [
    "#####  Gradient boosting"
   ]
  },
  {
   "cell_type": "code",
   "execution_count": null,
   "metadata": {},
   "outputs": [],
   "source": [
    "boosting_params = {'alpha_':[0.05, 0.1 , 0.15, 0.2 , 0.25, 0.3 , 0.35, 0.4 , 0.45, 0.5 , 0.55,\n",
    "       0.6 , 0.65, 0.7 , 0.75, 0.8 , 0.85, 0.9 , 0.95],\n",
    "               \n",
    "     'n_estimators': [50,100, 200 ],\n",
    "     \"criterion\": [  \"mse\"],\n",
    "    \"max_features\": [ 0.1,   0.3,   0.5,  0.7,   0.9, 1.0],\n",
    "    \"min_samples_split\": [2, 5, 10,25],\n",
    "    \"min_samples_leaf\": [1,5,10,20],\n",
    "    'randomized_calibration' :[True],\n",
    "    \"bagging_freq\": [0, 1, 3],\n",
    "          'n_jobs':[-1],\n",
    "                'algorithm':['GradientBoosting' ]}\n",
    "cv.grid_cv(df,boosting_params)"
   ]
  },
  {
   "cell_type": "code",
   "execution_count": null,
   "metadata": {},
   "outputs": [],
   "source": [
    "all_pvalues_algo('GradientBoosting','CP',window )\n",
    "all_pvalues_algo('GradientBoosting','NCP',window )"
   ]
  },
  {
   "cell_type": "markdown",
   "metadata": {},
   "source": [
    "##### random forest"
   ]
  },
  {
   "cell_type": "code",
   "execution_count": null,
   "metadata": {},
   "outputs": [],
   "source": [
    "rf_params = {'alpha_':[0.05, 0.1 , 0.15, 0.2 , 0.25, 0.3 , 0.35, 0.4 , 0.45, 0.5 , 0.55,\n",
    "       0.6 , 0.65, 0.7 , 0.75, 0.8 , 0.85, 0.9 , 0.95],\n",
    "                'n_estimators': [50,100, 200 ],\n",
    "                 \"criterion\": [  \"mse\"],\n",
    "                \"max_features\": [ 0.1,   0.3,   0.5,  0.7,   0.9, 1.0],\n",
    "                \"min_samples_split\": [2, 5, 10,25],\n",
    "                \"min_samples_leaf\": [1,5,10,20],\n",
    "                'randomized_calibration' :[True],\n",
    "                'n_jobs':[-1],\n",
    "                'algorithm':['RandomForest'] }\n",
    "cv.grid_cv(df,fr_params)"
   ]
  },
  {
   "cell_type": "code",
   "execution_count": null,
   "metadata": {},
   "outputs": [],
   "source": [
    "all_pvalues_algo('RandomForest','CP',window )\n",
    "all_pvalues_algo('RandomForest','NCP',window )"
   ]
  },
  {
   "cell_type": "markdown",
   "metadata": {},
   "source": [
    "##### b) Cross validation and interval prediction for all p values for   LSTM TODO"
   ]
  },
  {
   "cell_type": "markdown",
   "metadata": {},
   "source": [
    "#### c) LSTM"
   ]
  },
  {
   "cell_type": "code",
   "execution_count": null,
   "metadata": {},
   "outputs": [],
   "source": [
    "from keras.backend.tensorflow_backend import set_session\n",
    "import tensorflow as tf\n",
    "config = tf.ConfigProto()\n",
    "config.gpu_options.allow_growth = True\n",
    "sess = tf.Session(config=config)\n",
    "set_session(sess)"
   ]
  },
  {
   "cell_type": "code",
   "execution_count": null,
   "metadata": {},
   "outputs": [],
   "source": [
    "import files.cudalstm as lstm"
   ]
  },
  {
   "cell_type": "code",
   "execution_count": null,
   "metadata": {},
   "outputs": [],
   "source": [
    "lstm.trainlstm()"
   ]
  },
  {
   "cell_type": "code",
   "execution_count": null,
   "metadata": {},
   "outputs": [],
   "source": []
  },
  {
   "cell_type": "code",
   "execution_count": null,
   "metadata": {},
   "outputs": [],
   "source": []
  },
  {
   "cell_type": "markdown",
   "metadata": {},
   "source": [
    "# 3)Quantile Regression"
   ]
  },
  {
   "cell_type": "code",
   "execution_count": null,
   "metadata": {},
   "outputs": [],
   "source": [
    "tune=True"
   ]
  },
  {
   "cell_type": "markdown",
   "metadata": {},
   "source": [
    "##### random forest"
   ]
  },
  {
   "cell_type": "code",
   "execution_count": null,
   "metadata": {},
   "outputs": [],
   "source": [
    "all_pvalues_algo('QuantileRandomForest',3480,tune)"
   ]
  },
  {
   "cell_type": "markdown",
   "metadata": {},
   "source": [
    "##### Linear regression lasso"
   ]
  },
  {
   "cell_type": "code",
   "execution_count": null,
   "metadata": {},
   "outputs": [],
   "source": [
    "all_pvalues_algo('QuantileRegression',3480,tune)"
   ]
  },
  {
   "cell_type": "markdown",
   "metadata": {},
   "source": [
    "##### KNN"
   ]
  },
  {
   "cell_type": "code",
   "execution_count": null,
   "metadata": {},
   "outputs": [],
   "source": [
    "all_pvalues_algo('QuantileKNN',3480,tune)"
   ]
  },
  {
   "cell_type": "markdown",
   "metadata": {},
   "source": [
    "#####  Gradient boosting"
   ]
  },
  {
   "cell_type": "code",
   "execution_count": null,
   "metadata": {},
   "outputs": [],
   "source": [
    "all_pvalues_algo('QuantileGradientBoosting',3480,tune)"
   ]
  },
  {
   "cell_type": "markdown",
   "metadata": {},
   "source": [
    "##### LSTM"
   ]
  },
  {
   "cell_type": "code",
   "execution_count": null,
   "metadata": {},
   "outputs": [],
   "source": [
    "import files.DeepQuantileRegressionCINetUsdPospaper as qlstm"
   ]
  },
  {
   "cell_type": "code",
   "execution_count": null,
   "metadata": {},
   "outputs": [],
   "source": [
    "qlstm.trainqlstm()"
   ]
  },
  {
   "cell_type": "code",
   "execution_count": null,
   "metadata": {},
   "outputs": [],
   "source": []
  },
  {
   "cell_type": "code",
   "execution_count": null,
   "metadata": {},
   "outputs": [],
   "source": []
  }
 ],
 "metadata": {
  "kernelspec": {
   "display_name": "Python 3",
   "language": "python",
   "name": "python3"
  },
  "language_info": {
   "codemirror_mode": {
    "name": "ipython",
    "version": 3
   },
   "file_extension": ".py",
   "mimetype": "text/x-python",
   "name": "python",
   "nbconvert_exporter": "python",
   "pygments_lexer": "ipython3",
   "version": "3.6.4"
  }
 },
 "nbformat": 4,
 "nbformat_minor": 2
}
